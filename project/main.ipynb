{
 "cells": [
  {
   "cell_type": "markdown",
   "metadata": {},
   "source": [
    "# Hacking Evolution: Beyond Genetic Algorithms \n",
    "\n",
    "<style>\n",
    "  .intro-cell {\n",
    "    width: 80%;\n",
    "  }\n",
    "\n",
    "  .image-cell {\n",
    "    width: 20%;\n",
    "    text-align: right;\n",
    "  }\n",
    "\n",
    "  .name-list li {\n",
    "    margin-bottom: 10px; \n",
    "  }\n",
    "</style>\n",
    "\n",
    "<table>\n",
    "  <tr>\n",
    "    <td class=\"intro-cell\">\n",
    "    Notebook for the Artificial Intelligence Fundamentals exam (a.y. 23/24) <br>\n",
    "     <br>\n",
    "    @ University of Pisa - Computer Science Department - Curriculum Artificial Intelligence <br>\n",
    "     <br>\n",
    "    Authors: \n",
    "      <!-- Contributors -->\n",
    "      <ul class=\"name-list\">\n",
    "        <li>Irene Dovichi - <span style=\"font-family: 'Courier New', Courier, monospace;\">i.dovichi@studenti.unipi.it</span></li>\n",
    "        <li>Marco Lavorini - <span style=\"font-family: 'Courier New', Courier, monospace;\">m.lavorini2@studenti.unipi.it</span></li>\n",
    "        <li>Luca Miglior - <span style=\"font-family: 'Courier New', Courier, monospace;\">l.miglior@studenti.unipi.it</span></li>\n",
    "      </ul>\n",
    "    </td>\n",
    "    <td class=\"image-cell\">\n",
    "      <!-- Image -->\n",
    "      <img src=\"assets/hactually_bunnies.png\" alt=\"Image\" width=\"200\"/>\n",
    "    </td>\n",
    "  </tr>\n",
    "</table>"
   ]
  },
  {
   "cell_type": "markdown",
   "metadata": {},
   "source": [
    "# Introduction\n",
    "Write about the problem setting: solve a maze \n",
    "- Partially Observable 🔍 🤓\n",
    "- Discrete 🧩\n",
    "- Non-Episodic (Sequential) ⏩\n",
    "- Single Agent, Non-Adversarial \n",
    "- Deterministic 🔒\n",
    "- Static finite map: start and target coordinates are fixed 🏁\n",
    "\n",
    "Talk about what we want to achieve."
   ]
  },
  {
   "cell_type": "code",
   "execution_count": null,
   "metadata": {},
   "outputs": [],
   "source": [
    "%load_ext autoreload\n",
    "%autoreload 2"
   ]
  },
  {
   "cell_type": "code",
   "execution_count": null,
   "metadata": {},
   "outputs": [],
   "source": [
    "import gym\n",
    "import minihack\n",
    "import numpy as np\n",
    "import matplotlib.pyplot as plt\n",
    "import matplotlib.animation as animation\n",
    "import random\n",
    "import math\n",
    "import IPython.display as display\n",
    "import os\n",
    "\n",
    "from classes import *\n",
    "from tqdm import tqdm\n",
    "from utils import *\n",
    "\n",
    "from pyswip import Prolog\n",
    "from typing import List, Tuple\n",
    "\n",
    "# fix the seed for reproducibility (not fixing the seed for the whole program since we have imports!)\n",
    "random.seed(42)\n",
    "np.random.seed(42)"
   ]
  },
  {
   "cell_type": "markdown",
   "metadata": {},
   "source": [
    "# minihack env creation with a .des file"
   ]
  },
  {
   "cell_type": "code",
   "execution_count": null,
   "metadata": {},
   "outputs": [],
   "source": [
    "plt.rcParams[\"figure.figsize\"] = [15, 7]\n",
    "env = gym.make(\n",
    "    \"MiniHack-Navigation-Custom-v0\",\n",
    "    observation_keys=(\"chars\", \"pixel\"),\n",
    "    des_file=\"maps/real_maze.des\",\n",
    "    max_episode_steps=10000,\n",
    ")\n",
    "state = env.reset()\n",
    "# env.render()\n",
    "plt.imshow(state[\"pixel\"], aspect=\"auto\").set_data(state[\"pixel\"][:, 300:950])  # type: ignore"
   ]
  },
  {
   "cell_type": "code",
   "execution_count": null,
   "metadata": {},
   "outputs": [],
   "source": [
    "s,_,_,_ = env.step(0)\n",
    "\n",
    "plt.imshow(s[\"pixel\"], aspect=\"auto\").set_data(s[\"pixel\"][:, 300:950])  # type: ignore\n",
    "\n",
    "print(get_player_location(s[\"chars\"]))"
   ]
  },
  {
   "cell_type": "code",
   "execution_count": null,
   "metadata": {},
   "outputs": [],
   "source": [
    "state = env.reset()\n",
    "game_map = state[\"chars\"]  # type: ignore\n",
    "game = state[\"pixel\"]  # type: ignore\n",
    "start = get_player_location(game_map)\n",
    "target = get_target_location(game_map)\n",
    "game_map = Map(game_map, start, target)"
   ]
  },
  {
   "cell_type": "code",
   "execution_count": null,
   "metadata": {},
   "outputs": [],
   "source": [
    "print(f\"> start: {game_map.start}, target: {game_map.target}\")\n",
    "print(f\"> map size: {game_map.layout.shape}\")\n",
    "# print the map_matrix with matplotlib where the walls are black and the floor is white\n",
    "plt.imshow(game_map.map_matrix, cmap=\"gray\") # type: ignore\n",
    "plt.show()"
   ]
  },
  {
   "cell_type": "code",
   "execution_count": null,
   "metadata": {},
   "outputs": [],
   "source": [
    "PATH = \"kb/kb.pl\"\n",
    "KB = Prolog()\n",
    "KB.consult(PATH)\n",
    "\n",
    "KB.retractall(\"maze(_)\")\n",
    "KB.retractall(\"start(_,_)\")\n",
    "KB.asserta(f\"maze({game_map.map_matrix})\")\n",
    "KB.asserta(f\"start({game_map.start[0]}, {game_map.start[1]})\")\n",
    "\n",
    "for i in KB.query(\"maze(X)\"):\n",
    "    print(f'{i[\"X\"]}\\n')  # type: ignore\n",
    "\n",
    "\n",
    "# 1 corrisponde alle celle bianche, che non sono percorribili"
   ]
  },
  {
   "cell_type": "markdown",
   "metadata": {},
   "source": [
    "# NTH1\n",
    "\n",
    "In Prolog, `nth1/3` is a built-in predicate that is used to access elements in a list by index. The `nth1/3` predicate has the following form:\n",
    "\n",
    "```prolog\n",
    "nth1(Index, List, Element)\n",
    "```\n",
    "Index: The index of the element you want to access.\n",
    "\n",
    "List: The list from which you want to access the element.\n",
    "\n",
    "Element: The variable that will be unified with the element at the specified index.\n"
   ]
  },
  {
   "cell_type": "code",
   "execution_count": null,
   "metadata": {},
   "outputs": [],
   "source": [
    "result = list(KB.query(\"maze(M), nth1(13, M, Row), nth1(25, Row, Cell)\"))\n",
    "if result:\n",
    "    cell_value = result[0][\"Cell\"]  # type: ignore\n",
    "    print(f\"Cell value: {cell_value}\")\n",
    "else:\n",
    "    print(\"Query result is empty.\")\n",
    "\n",
    "solution = list(KB.query(f\"is_valid(14,25)\"))\n",
    "if solution:\n",
    "    print(\"Position is valid.\")\n",
    "else:\n",
    "    print(\"Position is not valid.\")\n",
    "\n",
    "l1 = list(KB.query(\"start(ROW,COL)\"))\n",
    "l2 = list(KB.query(f\"is_valid(9,23)\"))\n",
    "l3 = list(KB.query(f\"is_valid(9,23)\"))\n",
    "l4 = list(KB.query(f\"is_valid_action(11,23,0)\"))\n",
    "l5 = list(KB.query(f\"is_valid_action(10,23,0)\"))\n",
    "print(l1, l2, l3, l4, l5)"
   ]
  },
  {
   "cell_type": "code",
   "execution_count": null,
   "metadata": {},
   "outputs": [],
   "source": [
    "possible_actions = [0,1,2,3]"
   ]
  },
  {
   "cell_type": "code",
   "execution_count": null,
   "metadata": {},
   "outputs": [],
   "source": [
    "row = 9\n",
    "col = 28"
   ]
  },
  {
   "cell_type": "markdown",
   "metadata": {},
   "source": [
    "Now, we define a query that returns the ValidActions for a given position (row, col).\n",
    "At first, we call the function findall(+Templates, :Goal, -Bag) of Prolog that creates a list of the instantiations Template and gets successively on backtracking over Goal and unify the result with Bag. In this case: it starts assuming that is_valid_action() is True, and then it searches for the inputs that made it True. Secondarly, we rename Actions to ValidActions using the Prolog function intersection(+Set1, +Set2, -Set3).\n",
    "\n",
    "N.B.  the search is done for Action = 0,1,2,3 since in kb.pl 'is_valid_action' is constructed from action_to_coordinates which gives these 4 values for Action."
   ]
  },
  {
   "cell_type": "code",
   "execution_count": null,
   "metadata": {},
   "outputs": [],
   "source": [
    "query_string = f\"findall(Action, is_valid_action({row+1}, {col+1}, Action), Actions), intersection(Actions, {possible_actions}, ValidActions)\"\n",
    "\n",
    "results = list(KB.query(query_string))"
   ]
  },
  {
   "cell_type": "code",
   "execution_count": null,
   "metadata": {},
   "outputs": [],
   "source": [
    "print(results)"
   ]
  },
  {
   "cell_type": "code",
   "execution_count": null,
   "metadata": {},
   "outputs": [],
   "source": [
    "# Here we print just ValidActions\n",
    "valid_actions_result = results[0]['ValidActions'] # type: ignore\n",
    "\n",
    "print(valid_actions_result)"
   ]
  },
  {
   "cell_type": "code",
   "execution_count": null,
   "metadata": {},
   "outputs": [],
   "source": [
    "# We check with the NON-PROLOG function if the result is correct\n",
    "get_valid_actions(game_map.layout,  (row, col))"
   ]
  },
  {
   "cell_type": "code",
   "execution_count": null,
   "metadata": {},
   "outputs": [],
   "source": [
    "# We check if 1 is not correct, i.e., there is a wall on the right (East)\n",
    "print(is_wall(game_map.layout[row, col+1]))"
   ]
  },
  {
   "cell_type": "code",
   "execution_count": null,
   "metadata": {},
   "outputs": [],
   "source": [
    "# for i in range(len(game_map.map_matrix)): # type: ignore\n",
    "#     for j in range(len(game_map.map_matrix[0])): # type: ignore\n",
    "#         result = list(KB.query(f\"maze(M), nth1({i+1}, M, Row), nth1({j+1}, Row, Cell)\"))\n",
    "#         if result:\n",
    "#             cell_value = result[0][\"Cell\"]  # type: ignore\n",
    "#             if game_map.map_matrix[i][j] != cell_value:\n",
    "#                 #print(f'{i+1},{j+1} is valid')\n",
    "#             #else: \n",
    "#                 #print(f'{i+1},{j+1} is not valid, ERROR!!!!!')\n",
    "#                 break\n",
    "#         else:\n",
    "#             print(\"Query result is empty.\")"
   ]
  },
  {
   "cell_type": "code",
   "execution_count": null,
   "metadata": {},
   "outputs": [],
   "source": [
    "random.seed(42)\n",
    "\n",
    "actions = random_nactions(10)\n",
    "print(actions)\n",
    "\n",
    "path = path_from_actions(game_map= game_map.layout, start = game_map.start, actions = actions)\n",
    "print(path)\n",
    "\n",
    "path_kb = path_from_actions_kb(game_map= game_map.layout, start = game_map.start, actions = actions, KB = KB)\n",
    "print(path_kb)"
   ]
  },
  {
   "cell_type": "code",
   "execution_count": null,
   "metadata": {},
   "outputs": [],
   "source": [
    "path1 = random_nsteps(game_map= game_map.layout, start = game_map.start, target=game_map.target, steps = 10)\n",
    "path1"
   ]
  },
  {
   "cell_type": "code",
   "execution_count": null,
   "metadata": {},
   "outputs": [],
   "source": [
    "actions1 = actions_from_path(start = game_map.start, path = path1)\n",
    "actions1"
   ]
  },
  {
   "cell_type": "code",
   "execution_count": null,
   "metadata": {},
   "outputs": [],
   "source": [
    "path2 = path_from_actions(game_map= game_map.layout, start = game_map.start, actions = actions1)\n",
    "path2"
   ]
  },
  {
   "cell_type": "code",
   "execution_count": null,
   "metadata": {},
   "outputs": [],
   "source": [
    "# generating a full valid random path to feed at the first generation\n",
    "starting_path = random_nsteps(game_map= game_map.layout, start = game_map.start, target=game_map.target, steps = 300)\n",
    "starting_actions = actions_from_path(start = game_map.start, path = starting_path)\n",
    "print(len(starting_actions))\n",
    "print(starting_actions)"
   ]
  },
  {
   "cell_type": "markdown",
   "metadata": {},
   "source": [
    "# Knowledge Base\n",
    "\n",
    "Dire per cosa lo usiamo + reference ai file con le cose"
   ]
  },
  {
   "cell_type": "code",
   "execution_count": null,
   "metadata": {},
   "outputs": [],
   "source": []
  },
  {
   "cell_type": "markdown",
   "metadata": {},
   "source": [
    "# Genetic Algorithms\n",
    "\n",
    "Talk about them in general briefly.\n",
    "\n",
    "Talk about our choices for initialization, mutation and crossover."
   ]
  },
  {
   "cell_type": "markdown",
   "metadata": {},
   "source": [
    "## Fitness Function\n",
    "\n",
    "Say how it is defined in words + reference to file .py \n",
    "\n",
    "Definition of loops, dead ends and wrong actions\n",
    "\n",
    "Run the following cells for visualizing them."
   ]
  },
  {
   "cell_type": "code",
   "execution_count": null,
   "metadata": {},
   "outputs": [],
   "source": [
    "#TODO: fix these animations"
   ]
  },
  {
   "cell_type": "code",
   "execution_count": null,
   "metadata": {},
   "outputs": [],
   "source": [
    "# Loops animation: 2 loops\n",
    "# action_map = {\"N\": 0, \"E\": 1, \"S\": 2, \"W\": 3}\n",
    "\n",
    "state = env.reset()\n",
    "plt.rcParams[\"figure.figsize\"] = [5, 5]\n",
    "#plt.title(f\"Loops: 0\")\n",
    "ttl = plt.text(0.5, 1.01, f\"Loops: 0\", horizontalalignment='center', verticalalignment='bottom', transform=ax.transAxes)\n",
    "\n",
    "fig = plt.figure()\n",
    "ax = fig.add_subplot(111)\n",
    "ims = []\n",
    "\n",
    "image = plt.imshow(game[112:220, 545:687])\n",
    "actions = [1, 0, 1, 1, 0, 0, 3, 3, 2, 2, 3, 0, 0, 2]\n",
    "\n",
    "for i, action in enumerate(actions):\n",
    "    try:\n",
    "        s, _, _, _ = env.step(action)\n",
    "        display.display(plt.gcf())\n",
    "        display.clear_output(wait=True)\n",
    "        #image.set_data(s[\"pixel\"][110:220, 540:690])\n",
    "        if i < 9:\n",
    "            ttl = plt.text(0.5, 1.01, f\"Loops: 0\", horizontalalignment='center', verticalalignment='bottom', transform=ax.transAxes)\n",
    "            #plt.title(f\"Loops: 0\")\n",
    "        elif i < 13:\n",
    "            ttl = plt.text(0.5, 1.01, f\"Loops: 1\", horizontalalignment='center', verticalalignment='bottom', transform=ax.transAxes)\n",
    "            #plt.title(f\"Loops: 1\")\n",
    "        else:\n",
    "            ttl = plt.text(0.5, 1.01, f\"Loops: 2\", horizontalalignment='center', verticalalignment='bottom', transform=ax.transAxes)\n",
    "            #plt.title(f\"Loops: 2\")\n",
    "\n",
    "        im = plt.imshow(s[\"pixel\"][112:220, 545:687])\n",
    "        ims.append([im, ttl])\n",
    "        \n",
    "    except RuntimeError:\n",
    "        print(\"YOU WON!\")\n",
    "\n",
    "ani = animation.ArtistAnimation(fig, ims, interval=500, blit=False,\n",
    "                                repeat_delay=200)\n",
    "ani.save(\"loop.gif\", writer='help')"
   ]
  },
  {
   "cell_type": "code",
   "execution_count": null,
   "metadata": {},
   "outputs": [],
   "source": [
    "# Dead-ends animation\n",
    "# action_map = {\"N\": 0, \"E\": 1, \"S\": 2, \"W\": 3}\n",
    "# dead-end: 0, 0, 1, 1, 1, 3, 3, 3, 0\n",
    "\n",
    "state = env.reset()\n",
    "plt.rcParams[\"figure.figsize\"] = [5, 5]\n",
    "#plt.title(f\"Loops: 0\")\n",
    "#ttl = plt.text(0.5, 1.01, f\"Loops: 0\", horizontalalignment='center', verticalalignment='bottom', transform=ax.transAxes)\n",
    "\n",
    "fig = plt.figure()\n",
    "ax = fig.add_subplot(111)\n",
    "ims = []\n",
    "\n",
    "image = plt.imshow(game[112:220, 545:687])\n",
    "\n",
    "actions = [0, 0, 1, 1, 1, 3, 3, 3, 0]\n",
    "\n",
    "for i, action in enumerate(actions):\n",
    "    try:\n",
    "        s, _, _, _ = env.step(action)\n",
    "        display.display(plt.gcf())\n",
    "        display.clear_output(wait=True)\n",
    "        image.set_data(s[\"pixel\"][110:220, 540:690])\n",
    "        # time.sleep(0.1)\n",
    "        im = plt.imshow(s[\"pixel\"][112:220, 545:687])\n",
    "        ims.append([im, ttl])\n",
    "    except RuntimeError:\n",
    "        print(\"YOU WON!\")\n",
    "\n",
    "ani = animation.ArtistAnimation(fig, ims, interval=500, blit=False,\n",
    "                                repeat_delay=200)\n",
    "ani.save(\"culdesac.gif\", writer='help')"
   ]
  },
  {
   "cell_type": "code",
   "execution_count": null,
   "metadata": {},
   "outputs": [],
   "source": [
    "# Wrong actions animation\n",
    "state = env.reset()\n",
    "plt.rcParams[\"figure.figsize\"] = [5, 5]\n",
    "#plt.title(f\"Loops: 0\")\n",
    "#ttl = plt.text(0.5, 1.01, f\"Loops: 0\", horizontalalignment='center', verticalalignment='bottom', transform=ax.transAxes)\n",
    "\n",
    "fig = plt.figure()\n",
    "ax = fig.add_subplot(111)\n",
    "ims = []\n",
    "\n",
    "image = plt.imshow(game[112:220, 545:687])\n",
    "#ttl = plt.text(0.5, 1.01, f\"Wrong actions: 0\", horizontalalignment='center', verticalalignment='bottom', transform=ax.transAxes)\n",
    "\n",
    "\n",
    "actions = [0, 0, 0, 0, 0, 0, 0, 0]\n",
    "\n",
    "for i, action in enumerate(actions):\n",
    "    try:\n",
    "        s, _, _, _ = env.step(action)\n",
    "        display.display(plt.gcf())\n",
    "        display.clear_output(wait=True)\n",
    "        image.set_data(s[\"pixel\"][110:220, 540:690])\n",
    "        # time.sleep(0.1)\n",
    "        if i > 4:\n",
    "            ttl = plt.text(0.5, 1.01, f\"Wrong actions: {i-4}\", horizontalalignment='center', verticalalignment='bottom', transform=ax.transAxes)\n",
    "            #plt.title(f\"Wrong actions: {i-4}\")\n",
    "        else:\n",
    "            ttl = plt.text(0.5, 1.01, f\"Wrong actions: 0\", horizontalalignment='center', verticalalignment='bottom', transform=ax.transAxes)\n",
    "            #plt.title(f\"Wrong actions: 0\")\n",
    "\n",
    "        im = plt.imshow(s[\"pixel\"][112:220, 545:687])\n",
    "        ims.append([im, ttl])\n",
    "    except RuntimeError:\n",
    "        print(\"YOU WON!\")\n",
    "\n",
    "ani = animation.ArtistAnimation(fig, ims, interval=500, blit=False,\n",
    "                                repeat_delay=200)\n",
    "ani.save(\"wrong.gif\", writer='help')"
   ]
  },
  {
   "cell_type": "markdown",
   "metadata": {},
   "source": [
    "We are ready for the main loop in which we ..."
   ]
  },
  {
   "cell_type": "markdown",
   "metadata": {},
   "source": [
    "# We have to decide if we want to generate a random path or random actions\n",
    "\n",
    "random path $\\Rightarrow$ a path of exactly n steps\n",
    "\n",
    "random actions $\\Rightarrow$ many action will be not valid $\\Rightarrow$ the path will be shorter OR, as is implemented now, with many repetition of the same position.\n",
    "\n",
    "# NOTE:\n",
    "minihack wont crash if we input a not valid action starting from a valid action. It will simply not execute the action (as if we are playing), hence we are updating the path position with the same position."
   ]
  },
  {
   "cell_type": "markdown",
   "metadata": {},
   "source": [
    "# Note\n",
    "we can both initialize a n random action or a random n steps path generated in the cells above."
   ]
  },
  {
   "cell_type": "code",
   "execution_count": null,
   "metadata": {},
   "outputs": [],
   "source": [
    "# create first generation\n",
    "MAX_GENERATIONS = 10000\n",
    "MAX_INDIVIDUALS = 24\n",
    "\n",
    "best_individuals = []\n",
    "\n",
    "print(\"> Creating initial population...\")\n",
    "\"\"\"individuals = [\n",
    "    Individual(starting_actions, 1, game_map) for _ in range(MAX_INDIVIDUALS)\n",
    "]\n",
    "\"\"\"\n",
    "individuals = [\n",
    "    Individual(random_nactions(300), 1, game_map) for _ in range(MAX_INDIVIDUALS)\n",
    "]\n",
    "individuals.sort(key=lambda x: x.fitness, reverse=True)\n",
    "print(\"> Evolving...\")\n",
    "\n",
    "with tqdm(total=MAX_GENERATIONS, colour='#9244c9', ncols=150) as pbar:\n",
    "    for generation in range(MAX_GENERATIONS):\n",
    "        best_fitness = individuals[0].fitness\n",
    "        best_individuals.append(individuals[0])\n",
    "        if generation % 25 == -1:\n",
    "            print(\n",
    "                format_loop.format(\n",
    "                    generation,\n",
    "                    best_fitness,\n",
    "                    individuals[0].wrong_actions,\n",
    "                    individuals[0].loops,\n",
    "                    individuals[0].dead_ends,\n",
    "                    individuals[0].distance,\n",
    "                )\n",
    "            )\n",
    "\n",
    "        # take 2 best individuals -> maybe can be replaced with probability distribution based on fitness\n",
    "        # also roulette wheel selection.\n",
    "        p1, p2 = individuals[0], individuals[1]\n",
    "        errors = p1.error_vector + p2.error_vector\n",
    "        offspring = [\n",
    "            softmax_mutate(\n",
    "                crossover(p1.actions, p2.actions), \n",
    "                errors, \n",
    "                generation=generation, \n",
    "                mutation_rate=0.8,\n",
    "                max_generations=MAX_GENERATIONS,\n",
    "                decay = not(p1.won),\n",
    "            )\n",
    "            for _ in range(MAX_INDIVIDUALS)\n",
    "        ]\n",
    "\n",
    "        individuals[2:] = [\n",
    "            Individual(offspring[i], generation + 1, game_map)\n",
    "            for i in range(MAX_INDIVIDUALS - 2)\n",
    "        ]\n",
    "        individuals.sort(key=lambda x: x.fitness, reverse=True)\n",
    "\n",
    "        if individuals[0].fitness == 0:\n",
    "            print(\n",
    "                f\"> best individual in generation {generation}: {individuals[0].fitness}, wrong actions: {individuals[0].wrong_actions}\"\n",
    "            )\n",
    "            break\n",
    "\n",
    "        pbar.set_postfix(\n",
    "            best_fitness=best_fitness, \n",
    "            distance=individuals[0].distance, \n",
    "            dead_ends=individuals[0].dead_ends, \n",
    "            loops=individuals[0].loops, \n",
    "            wrong_actions=individuals[0].wrong_actions,\n",
    "            refresh=False\n",
    "        )\n",
    "        \n",
    "        pbar.update(1)\n",
    "\n",
    "best_fitness = individuals[0].fitness\n",
    "best_individuals.append(individuals[0])"
   ]
  },
  {
   "cell_type": "code",
   "execution_count": null,
   "metadata": {},
   "outputs": [],
   "source": [
    "# Plot for each generation the best fitness\n",
    "best_fitness = [best_individuals[i].fitness for i in range(len(best_individuals))]\n",
    "plt.plot(best_fitness)"
   ]
  },
  {
   "cell_type": "code",
   "execution_count": null,
   "metadata": {},
   "outputs": [],
   "source": [
    "env.reset()\n",
    "plt.rcParams[\"figure.figsize\"] = [18, 7]\n",
    "\n",
    "image = plt.imshow(game[:, 350:1500])\n",
    "# for generation, path in enumerate(best_paths):\n",
    "# plt.title(f\"Generation {generation}, fitness: {best_scores[generation]:.2f}, last move: {path[-1]}\")\n",
    "# start = best_paths[0]\n",
    "# path = best_paths[-1]\n",
    "actions = []\n",
    "actions = individuals[0].actions\n",
    "wrong = 0\n",
    "\n",
    "for i, action in enumerate(actions):\n",
    "    try:\n",
    "        s, _, _, _ = env.step(action)\n",
    "        display.display(plt.gcf())\n",
    "        display.clear_output(wait=True)\n",
    "        plt.title(\n",
    "            format_title.format(\n",
    "                individuals[0].generation,\n",
    "                individuals[0].fitness,\n",
    "                individuals[0].path[i],\n",
    "                action,\n",
    "                wrong,\n",
    "                individuals[0].loops,\n",
    "                individuals[0].dead_ends,\n",
    "                i + 1,\n",
    "                len(actions),\n",
    "            )\n",
    "        )\n",
    "        image.set_data(s[\"pixel\"][:, 300:1200])\n",
    "        # time.sleep(0.1)\n",
    "        if individuals[0].path[i] == game_map.target:\n",
    "            print(\"YOU WON! <3\")\n",
    "            break\n",
    "        if individuals[0].path[i] == individuals[0].path[i - 1]:\n",
    "            wrong += 1\n",
    "    except RuntimeError:\n",
    "        print(\"YOU WON! <3\")"
   ]
  },
  {
   "cell_type": "markdown",
   "metadata": {},
   "source": [
    "# Assessment"
   ]
  },
  {
   "cell_type": "code",
   "execution_count": null,
   "metadata": {},
   "outputs": [],
   "source": [
    "#TODO: inserire plot per 100 runs?"
   ]
  },
  {
   "cell_type": "markdown",
   "metadata": {},
   "source": [
    "# Bibliography"
   ]
  }
 ],
 "metadata": {
  "kernelspec": {
   "display_name": ".venv",
   "language": "python",
   "name": "python3"
  },
  "language_info": {
   "codemirror_mode": {
    "name": "ipython",
    "version": 3
   },
   "file_extension": ".py",
   "mimetype": "text/x-python",
   "name": "python",
   "nbconvert_exporter": "python",
   "pygments_lexer": "ipython3",
   "version": "3.10.11"
  }
 },
 "nbformat": 4,
 "nbformat_minor": 2
}
