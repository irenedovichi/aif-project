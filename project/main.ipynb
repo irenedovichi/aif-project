{
 "cells": [
  {
   "cell_type": "code",
   "execution_count": null,
   "metadata": {},
   "outputs": [],
   "source": [
    "import gym\n",
    "import minihack\n",
    "import numpy as np\n",
    "import matplotlib.pyplot as plt\n",
    "import random\n",
    "import math\n",
    "import IPython.display as display\n",
    "\n",
    "from classes import *\n",
    "from gen_utils import *\n",
    "from tqdm import tqdm\n",
    "from utils import *"
   ]
  },
  {
   "cell_type": "markdown",
   "metadata": {},
   "source": [
    "# minihack env creation with a .des file"
   ]
  },
  {
   "cell_type": "code",
   "execution_count": null,
   "metadata": {},
   "outputs": [],
   "source": [
    "env = gym.make(\n",
    "    \"MiniHack-Navigation-Custom-v0\",\n",
    "    observation_keys=(\"chars\", \"pixel\"),\n",
    "    des_file = \"maps/complex_maze.des\",\n",
    "    max_episode_steps=10000,\n",
    ")\n",
    "state = env.reset()\n",
    "#env.render()\n",
    "plt.imshow(state['pixel'])"
   ]
  },
  {
   "cell_type": "code",
   "execution_count": null,
   "metadata": {},
   "outputs": [],
   "source": [
    "state = env.reset()\n",
    "game_map = state['chars']\n",
    "game = state['pixel']\n",
    "start = get_player_location(game_map)\n",
    "target = get_target_location(game_map)\n",
    "\n",
    "map = Map(game_map, start, target)"
   ]
  },
  {
   "cell_type": "code",
   "execution_count": null,
   "metadata": {},
   "outputs": [],
   "source": [
    "print(f\"> start: {map.start}, target: {map.target}\")"
   ]
  },
  {
   "cell_type": "code",
   "execution_count": null,
   "metadata": {},
   "outputs": [],
   "source": [
    "# print the map_matrix with matplotlib where the walls are black and the floor is white\n",
    "plt.imshow(map.map_matrix, cmap='gray')\n",
    "plt.show()\n"
   ]
  },
  {
   "cell_type": "code",
   "execution_count": null,
   "metadata": {},
   "outputs": [],
   "source": [
    "individual = Individual(random_nactions(), 1, map)"
   ]
  },
  {
   "cell_type": "code",
   "execution_count": null,
   "metadata": {},
   "outputs": [],
   "source": [
    "individual.path[0] == map.start"
   ]
  },
  {
   "cell_type": "markdown",
   "metadata": {},
   "source": [
    "# We have to decide if we want to generate a random path or random actions\n",
    "\n",
    "random path $\\Rightarrow$ a path of exactly n steps\n",
    "\n",
    "random actions $\\Rightarrow$ many action will be not valid $\\Rightarrow$ the path will be shorter OR, as is implemented now, with many repetition of the same position.\n",
    "\n",
    "# NOTE:\n",
    "minihack wont crash if we input a not valid action starting from a valid action. It will simply not execute the action (as if we are playing), hence we are updating the path position with the same position."
   ]
  },
  {
   "cell_type": "code",
   "execution_count": null,
   "metadata": {},
   "outputs": [],
   "source": [
    "#random_nsteps(game_map, start, target) # RANDOM VALID PATH\n",
    "random_nactions()                      # RANDOM (TO CHECK VALIDITY) ACTIONS"
   ]
  },
  {
   "cell_type": "code",
   "execution_count": null,
   "metadata": {},
   "outputs": [],
   "source": [
    "individual = Individual(random_nactions(), 1, map)\n",
    "#individual.__str__\n",
    "individual.path"
   ]
  },
  {
   "cell_type": "code",
   "execution_count": null,
   "metadata": {},
   "outputs": [],
   "source": [
    "count_loops(individual.path)"
   ]
  },
  {
   "cell_type": "code",
   "execution_count": null,
   "metadata": {},
   "outputs": [],
   "source": [
    "# create first generation\n",
    "MAX_GENERATIONS = 1000\n",
    "MAX_INDIVIDUALS = 100\n",
    "best_individuals = []\n",
    "\n",
    "print(\"> Creating initial population...\")\n",
    "individuals = [Individual(random_nactions(), 1, map) for _ in range(MAX_INDIVIDUALS)]\n",
    "individuals.sort(key=lambda x: x.fitness, reverse=False)\n",
    "#print(f'best_individual: {individuals[0].fitness}')\n",
    "print(\"> Evolving...\")\n",
    "\n",
    "for generation in tqdm(range(MAX_GENERATIONS)):\n",
    "\n",
    "    best_fitness = individuals[0].fitness\n",
    "    best_individuals.append(individuals[0]) \n",
    "    if generation % 100 == 0:\n",
    "        print(f'best_individual in generation {generation}: {best_fitness}, wrong actions: {individuals[0].wrong_actions}')\n",
    "\n",
    "    # take 2 best individuals -> maybe can be replaced with probability distribution based on fitness\n",
    "    # also roulette wheel selection.\n",
    "    child1, child2 = individuals[0].actions, individuals[1].actions\n",
    "    offspring = [crossover(child1, child2) for _ in range(MAX_INDIVIDUALS)]\n",
    "    offspring = [mutate(child, valid_actions_bitmap(map.start, path_from_actions(map.map, map.start, child))) for child in offspring]\n",
    "\n",
    "    individuals[2:] = [Individual(offspring[i], generation+1, map) for i in range(MAX_INDIVIDUALS-2)]\n",
    "    individuals.sort(key=lambda x: x.fitness, reverse=False)\n",
    "\n",
    "    # print every individual fitness\n",
    "    \"\"\"for i in range(MAX_INDIVIDUALS):\n",
    "        print(f\"Individual {i} fitness: {individuals[i].fitness}\")\n",
    "\"\"\"\n",
    "    # print(f\"Generation {generation}: best score {best_fitness:.2f}\")\n",
    "    \"\"\"\n",
    "    if best_fitness == 0:\n",
    "        zero_fitness.append(population[0][0])\"\"\"\n",
    "best_fitness = individuals[0].fitness\n",
    "best_individuals.append(individuals[0])\n",
    "print(f'best_individual in generation {generation}: {best_fitness}, wrong actions: {individuals[0].wrong_actions}')\n",
    "\n"
   ]
  },
  {
   "cell_type": "code",
   "execution_count": null,
   "metadata": {},
   "outputs": [],
   "source": [
    "# Plot for each generation the best fitness\n",
    "best_fitness = [best_individuals[i].fitness for i in range(len(best_individuals))]\n",
    "plt.plot(best_fitness)"
   ]
  },
  {
   "cell_type": "code",
   "execution_count": null,
   "metadata": {},
   "outputs": [],
   "source": [
    "env.reset()\n",
    "plt.rcParams['figure.figsize'] = [17, 7]\n",
    "\n",
    "image = plt.imshow(game[:, 300:975])\n",
    "# for generation, path in enumerate(best_paths):\n",
    "# plt.title(f\"Generation {generation}, fitness: {best_scores[generation]:.2f}, last move: {path[-1]}\")\n",
    "#start = best_paths[0]\n",
    "#path = best_paths[-1]\n",
    "actions = []\n",
    "actions = individuals[0].actions\n",
    "wrong = 0\n",
    "\n",
    "for i, action in enumerate(actions):\n",
    "    try: \n",
    "        s, _, _, _ = env.step(action)\n",
    "        display.display(plt.gcf())\n",
    "        display.clear_output(wait=True)\n",
    "        plt.title(f\"Generation {individuals[0].fitness}, fitness: {individuals[0].fitness}, current position: {individuals[0].path[i]}, action: {action}, wrong actions: {wrong}, action: {i+1}/{len(actions)}\")\n",
    "        image.set_data(s['pixel'][:, 300:975])\n",
    "        #time.sleep(0.1)\n",
    "        if individuals[0].path[i] == map.target:\n",
    "            print('YOU WON! <3')\n",
    "            break\n",
    "        if individuals[0].path[i] == individuals[0].path[i-1]:\n",
    "            wrong += 1\n",
    "    except RuntimeError:\n",
    "        print('YOU WON! <3')"
   ]
  },
  {
   "cell_type": "code",
   "execution_count": null,
   "metadata": {},
   "outputs": [],
   "source": [
    "\"\"\"MAX_GENERATIONS = 1000\n",
    "MAX_INDIVIDUALS = 100\n",
    "\n",
    "best_scores =[]\n",
    "best_paths = []\n",
    "zero_fitness = []\n",
    "\n",
    "# create a list of individuals, starting with random moves (illegal actions filtered out)\n",
    "print(\"> Creating initial population...\")\n",
    "individuals = [random_nsteps(game_map, start, target) for _ in range(MAX_INDIVIDUALS)]\n",
    "best_fitness = np.inf\n",
    "\n",
    "print(\"> Evolving...\")\n",
    "for generation in tqdm(range(MAX_GENERATIONS)):\n",
    "    \n",
    "    generation_scores = []\n",
    "\n",
    "    #fitnesses = [fitness_function(individual, checkpoints, generation) for individual in individuals]\n",
    "    #fitness_function = lambda path: abs(path[-1][0] - target[0]) + abs(path[-1][1] - target[1])\n",
    "\n",
    "    ind_actions = [actions_from_path(start, ind) for ind in individuals]\n",
    "    generation_scores.append(min(fitnesses))\n",
    "\n",
    "    # this is a list of tuples (individual, fitness). individual is a list of moves\n",
    "    population = list(zip(individuals, fitnesses))\n",
    "    actions =  list(zip(ind_actions, fitnesses))\n",
    "\n",
    "    # sorting the population by best fitness (lower is better)\n",
    "    population.sort(key=lambda x: x[1])\n",
    "    actions.sort(key=lambda x:x[1])\n",
    "    # sort ind_actions with respect to population\n",
    "    \n",
    "    #print(f\"best score: {population[0][1]:.2f}\")\n",
    "\n",
    "    # take 2 best individuals -> maybe can be replaced with probability distribution based on fitness\n",
    "    # also roulette wheel selection.\n",
    "\n",
    "    child1, child2, = actions[0][0], actions[1][0]\n",
    "\n",
    "    offspring = [crossover(child1, child2) for _ in range(MAX_INDIVIDUALS)]\n",
    "    offspring = [mutate(child) for child in offspring]\n",
    "    ind_actions = offspring\n",
    "    individuals = [path_from_actions(game_map, start, child) for child in offspring]\n",
    "\n",
    "    best_fitness = population[0][1]\n",
    "    best_scores.append(population[0][1])    \n",
    "    best_paths.append(population[0][0])\n",
    "    #print(f\"Generation {generation}: best score {best_fitness:.2f}\")\n",
    "\n",
    "    if best_fitness == 0:\n",
    "        zero_fitness.append(population[0][0])\n",
    "    \n",
    "# print best score and best path\n",
    "best_idx = np.argmin(best_scores)\n",
    "print(f\"Best score: {best_scores[best_idx]:.2f}\")\n",
    "print(f\"Best path: {best_paths[best_idx]}\")\n",
    "print(f\"generation of best path: {best_idx}\")\"\"\""
   ]
  }
 ],
 "metadata": {
  "kernelspec": {
   "display_name": ".venv",
   "language": "python",
   "name": "python3"
  },
  "language_info": {
   "codemirror_mode": {
    "name": "ipython",
    "version": 3
   },
   "file_extension": ".py",
   "mimetype": "text/x-python",
   "name": "python",
   "nbconvert_exporter": "python",
   "pygments_lexer": "ipython3",
   "version": "3.10.13"
  }
 },
 "nbformat": 4,
 "nbformat_minor": 2
}
