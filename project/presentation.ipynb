{
 "cells": [
  {
   "cell_type": "code",
   "execution_count": null,
   "metadata": {},
   "outputs": [],
   "source": [
    "%load_ext autoreload\n",
    "%autoreload 2"
   ]
  },
  {
   "cell_type": "code",
   "execution_count": null,
   "metadata": {},
   "outputs": [],
   "source": [
    "import gym\n",
    "import minihack\n",
    "import numpy as np\n",
    "import matplotlib.pyplot as plt\n",
    "import random\n",
    "import math\n",
    "import IPython.display as display\n",
    "import os\n",
    "\n",
    "from classes import *\n",
    "from tqdm import tqdm\n",
    "from utils import *\n",
    "\n",
    "from pyswip import Prolog\n",
    "from typing import List, Tuple\n",
    "\n",
    "# fix the seed for reproducibility (not fixing the seed for the whole program since we have imports!)\n",
    "random.seed(667)\n",
    "np.random.seed(667)"
   ]
  },
  {
   "cell_type": "code",
   "execution_count": null,
   "metadata": {},
   "outputs": [],
   "source": [
    "plt.rcParams[\"figure.figsize\"] = [15, 7]\n",
    "# set dpi to 500\n",
    "plt.rcParams[\"figure.dpi\"] = 500\n",
    "env = gym.make(\n",
    "    \"MiniHack-Navigation-Custom-v0\",\n",
    "    observation_keys=(\"chars\", \"pixel\"),\n",
    "    des_file=\"maps/pres.des\",\n",
    "    max_episode_steps=10000,\n",
    ")\n",
    "state = env.reset()\n",
    "# env.render()\n",
    "plt.imshow(state[\"pixel\"], aspect=\"auto\").set_data(state[\"pixel\"][:, 300:950])  # type: ignore"
   ]
  },
  {
   "cell_type": "code",
   "execution_count": null,
   "metadata": {},
   "outputs": [],
   "source": [
    "# Manhattan distance\n",
    "plt.rcParams[\"figure.figsize\"] = [10, 5]\n",
    "# set dpi to 500\n",
    "plt.rcParams[\"figure.dpi\"] = 500\n",
    "env = gym.make(\n",
    "    \"MiniHack-Navigation-Custom-v0\",\n",
    "    observation_keys=(\"chars\", \"pixel\"),\n",
    "    des_file=\"maps/distance.des\",\n",
    "    max_episode_steps=10000,\n",
    ")\n",
    "state = env.reset()\n",
    "# env.render()\n",
    "plt.imshow(state[\"pixel\"], aspect=\"auto\").set_data(state[\"pixel\"][:, 300:950])  # type: ignore"
   ]
  },
  {
   "cell_type": "code",
   "execution_count": null,
   "metadata": {},
   "outputs": [],
   "source": [
    "# Loops\n",
    "plt.rcParams[\"figure.figsize\"] = [10, 5]\n",
    "# set dpi to 500\n",
    "plt.rcParams[\"figure.dpi\"] = 500\n",
    "env = gym.make(\n",
    "    \"MiniHack-Navigation-Custom-v0\",\n",
    "    observation_keys=(\"chars\", \"pixel\"),\n",
    "    des_file=\"maps/loops.des\",\n",
    "    max_episode_steps=10000,\n",
    ")\n",
    "state = env.reset()\n",
    "game_map = state[\"chars\"]  # type: ignore\n",
    "game = state[\"pixel\"]  # type: ignore\n",
    "# env.render()\n",
    "plt.imshow(state[\"pixel\"], aspect=\"auto\").set_data(state[\"pixel\"][:, 300:950])  # type: ignore"
   ]
  },
  {
   "cell_type": "code",
   "execution_count": null,
   "metadata": {},
   "outputs": [],
   "source": [
    "# Loops animation\n",
    "# action_map = {\"N\": 0, \"E\": 1, \"S\": 2, \"W\": 3}\n",
    "# generic loop: 1, 1, 0, 0, 3, 3, 2, 2\n",
    "\n",
    "plt.rcParams[\"figure.figsize\"] = [18, 7]\n",
    "\n",
    "image = plt.imshow(game[:, 350:1200])\n",
    "actions = [1, 0, 1, 1, 0, 0, 3, 3, 2, 2]\n",
    "\n",
    "for i, action in enumerate(actions):\n",
    "    try:\n",
    "        s, _, _, _ = env.step(action)\n",
    "        display.display(plt.gcf())\n",
    "        display.clear_output(wait=True)\n",
    "        image.set_data(s[\"pixel\"][:, 350:1200])\n",
    "        # time.sleep(0.1)\n",
    "    except RuntimeError:\n",
    "        print(\"YOU WON! <3\")"
   ]
  },
  {
   "cell_type": "code",
   "execution_count": null,
   "metadata": {},
   "outputs": [],
   "source": [
    "# Dead ends"
   ]
  },
  {
   "cell_type": "code",
   "execution_count": null,
   "metadata": {},
   "outputs": [],
   "source": [
    "# Wrong actions"
   ]
  }
 ],
 "metadata": {
  "kernelspec": {
   "display_name": ".venv",
   "language": "python",
   "name": "python3"
  },
  "language_info": {
   "codemirror_mode": {
    "name": "ipython",
    "version": 3
   },
   "file_extension": ".py",
   "mimetype": "text/x-python",
   "name": "python",
   "nbconvert_exporter": "python",
   "pygments_lexer": "ipython3",
   "version": "3.10.12"
  }
 },
 "nbformat": 4,
 "nbformat_minor": 2
}
