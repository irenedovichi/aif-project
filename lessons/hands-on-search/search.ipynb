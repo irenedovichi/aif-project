{
 "cells": [
  {
   "cell_type": "code",
   "execution_count": 1,
   "metadata": {},
   "outputs": [],
   "source": [
    "import gym\n",
    "import minihack\n",
    "import numpy as np\n",
    "import matplotlib.pyplot as plt\n",
    "import IPython.display as display\n",
    "from tqdm import tqdm\n",
    "import random\n",
    "\n",
    "# set the seed for reproducibility\n",
    "SEED = 42\n",
    "np.random.seed(SEED)\n",
    "\n",
    "from utils import *\n",
    "from gen import test, random_search, true_random_search, true_random_nsteps\n"
   ]
  },
  {
   "cell_type": "code",
   "execution_count": 26,
   "metadata": {},
   "outputs": [
    {
     "ename": "TypeError",
     "evalue": "NLE.reset() got an unexpected keyword argument 'seed'",
     "output_type": "error",
     "traceback": [
      "\u001b[0;31m---------------------------------------------------------------------------\u001b[0m",
      "\u001b[0;31mTypeError\u001b[0m                                 Traceback (most recent call last)",
      "\u001b[1;32m/Users/vornao/Developer/aif-project/lessons/hands-on-search/search.ipynb Cell 2\u001b[0m line \u001b[0;36m7\n\u001b[1;32m      <a href='vscode-notebook-cell:/Users/vornao/Developer/aif-project/lessons/hands-on-search/search.ipynb#W1sZmlsZQ%3D%3D?line=0'>1</a>\u001b[0m env \u001b[39m=\u001b[39m gym\u001b[39m.\u001b[39mmake(\n\u001b[1;32m      <a href='vscode-notebook-cell:/Users/vornao/Developer/aif-project/lessons/hands-on-search/search.ipynb#W1sZmlsZQ%3D%3D?line=1'>2</a>\u001b[0m     \u001b[39m\"\u001b[39m\u001b[39mMiniHack-ExploreMaze-Hard-Mapped-v0\u001b[39m\u001b[39m\"\u001b[39m,\n\u001b[1;32m      <a href='vscode-notebook-cell:/Users/vornao/Developer/aif-project/lessons/hands-on-search/search.ipynb#W1sZmlsZQ%3D%3D?line=2'>3</a>\u001b[0m     observation_keys\u001b[39m=\u001b[39m(\u001b[39m\"\u001b[39m\u001b[39mchars\u001b[39m\u001b[39m\"\u001b[39m, \u001b[39m\"\u001b[39m\u001b[39mpixel\u001b[39m\u001b[39m\"\u001b[39m),\n\u001b[1;32m      <a href='vscode-notebook-cell:/Users/vornao/Developer/aif-project/lessons/hands-on-search/search.ipynb#W1sZmlsZQ%3D%3D?line=3'>4</a>\u001b[0m     \u001b[39m#des_file = \"simple_maze.des\",\u001b[39;00m\n\u001b[1;32m      <a href='vscode-notebook-cell:/Users/vornao/Developer/aif-project/lessons/hands-on-search/search.ipynb#W1sZmlsZQ%3D%3D?line=4'>5</a>\u001b[0m     max_episode_steps\u001b[39m=\u001b[39m\u001b[39m10000\u001b[39m,\n\u001b[1;32m      <a href='vscode-notebook-cell:/Users/vornao/Developer/aif-project/lessons/hands-on-search/search.ipynb#W1sZmlsZQ%3D%3D?line=5'>6</a>\u001b[0m )\n\u001b[0;32m----> <a href='vscode-notebook-cell:/Users/vornao/Developer/aif-project/lessons/hands-on-search/search.ipynb#W1sZmlsZQ%3D%3D?line=6'>7</a>\u001b[0m state \u001b[39m=\u001b[39m env\u001b[39m.\u001b[39;49mreset(seed\u001b[39m=\u001b[39;49mSEED)\n\u001b[1;32m      <a href='vscode-notebook-cell:/Users/vornao/Developer/aif-project/lessons/hands-on-search/search.ipynb#W1sZmlsZQ%3D%3D?line=7'>8</a>\u001b[0m env\u001b[39m.\u001b[39mrender()\n",
      "File \u001b[0;32m~/Developer/aif-project/.venv/lib/python3.10/site-packages/minihack/base.py:375\u001b[0m, in \u001b[0;36mMiniHack.reset\u001b[0;34m(self, sample_seed, *args, **kwargs)\u001b[0m\n\u001b[1;32m    373\u001b[0m     seed \u001b[39m=\u001b[39m random\u001b[39m.\u001b[39mchoice(\u001b[39mself\u001b[39m\u001b[39m.\u001b[39m_level_seeds)\n\u001b[1;32m    374\u001b[0m     \u001b[39mself\u001b[39m\u001b[39m.\u001b[39mseed(seed, seed, reseed\u001b[39m=\u001b[39m\u001b[39mFalse\u001b[39;00m)\n\u001b[0;32m--> 375\u001b[0m \u001b[39mreturn\u001b[39;00m \u001b[39msuper\u001b[39;49m()\u001b[39m.\u001b[39;49mreset(\u001b[39m*\u001b[39;49margs, \u001b[39m*\u001b[39;49m\u001b[39m*\u001b[39;49mkwargs)\n",
      "\u001b[0;31mTypeError\u001b[0m: NLE.reset() got an unexpected keyword argument 'seed'"
     ]
    }
   ],
   "source": [
    "env = gym.make(\n",
    "    \"MiniHack-ExploreMaze-Hard-Mapped-v0\",\n",
    "    observation_keys=(\"chars\", \"pixel\"),\n",
    "    #des_file = \"simple_maze.des\",\n",
    "    max_episode_steps=10000,\n",
    ")\n",
    "state = env.reset(seed=SEED)\n",
    "env.render()"
   ]
  },
  {
   "cell_type": "code",
   "execution_count": 3,
   "metadata": {},
   "outputs": [
    {
     "data": {
      "text/plain": [
       "<matplotlib.image.AxesImage at 0x15a2f7d00>"
      ]
     },
     "execution_count": 3,
     "metadata": {},
     "output_type": "execute_result"
    },
    {
     "data": {
      "image/png": "[encoded data removed]",
      "text/plain": [
       "<Figure size 640x480 with 1 Axes>"
      ]
     },
     "metadata": {},
     "output_type": "display_data"
    }
   ],
   "source": [
    "plt.imshow(state['pixel'][75:300, 450:800])"
   ]
  },
  {
   "cell_type": "code",
   "execution_count": 4,
   "metadata": {},
   "outputs": [],
   "source": [
    "game_map = state['chars']\n",
    "game = state['pixel']\n",
    "start = get_player_location(game_map)\n",
    "target = get_target_location(game_map)"
   ]
  },
  {
   "cell_type": "code",
   "execution_count": 5,
   "metadata": {},
   "outputs": [
    {
     "name": "stdout",
     "output_type": "stream",
     "text": [
      "test\n"
     ]
    }
   ],
   "source": [
    "test()"
   ]
  },
  {
   "cell_type": "code",
   "execution_count": 6,
   "metadata": {},
   "outputs": [
    {
     "name": "stdout",
     "output_type": "stream",
     "text": [
      "Target found!\n",
      "target (12, 14)\n",
      "target (11, 14)\n",
      "target (10, 14)\n",
      "target (9, 14)\n",
      "target (8, 14)\n",
      "target (7, 14)\n",
      "target (6, 14)\n",
      "target (5, 14)\n",
      "target (4, 14)\n",
      "target (4, 13)\n",
      "target (5, 13)\n",
      "target (5, 12)\n",
      "target (5, 11)\n",
      "target (5, 10)\n",
      "target (5, 9)\n",
      "target (5, 8)\n",
      "target (6, 8)\n",
      "target (7, 8)\n",
      "target (7, 7)\n",
      "target (7, 6)\n",
      "target (6, 6)\n",
      "target (5, 6)\n",
      "target (5, 5)\n",
      "target (5, 4)\n",
      "target (6, 4)\n",
      "target (7, 4)\n",
      "target (7, 3)\n",
      "target (7, 2)\n",
      "target (6, 2)\n",
      "target (5, 2)\n",
      "target (5, 1)\n",
      "target (6, 1)\n",
      "target (7, 1)\n",
      "target (8, 1)\n",
      "target (9, 1)\n",
      "target (10, 1)\n",
      "target (11, 1)\n"
     ]
    },
    {
     "data": {
      "text/plain": [
       "37"
      ]
     },
     "execution_count": 6,
     "metadata": {},
     "output_type": "execute_result"
    }
   ],
   "source": [
    "path1 = random_search(game_map, start, target)\n",
    "len(path1)"
   ]
  },
  {
   "cell_type": "code",
   "execution_count": 7,
   "metadata": {},
   "outputs": [
    {
     "data": {
      "text/plain": [
       "101"
      ]
     },
     "execution_count": 7,
     "metadata": {},
     "output_type": "execute_result"
    }
   ],
   "source": [
    "path = true_random_nsteps(game_map, start, target)\n",
    "len(path)"
   ]
  },
  {
   "cell_type": "code",
   "execution_count": 8,
   "metadata": {},
   "outputs": [
    {
     "data": {
      "text/plain": [
       "[(11, 1),\n",
       " (10, 1),\n",
       " (11, 1),\n",
       " (10, 1),\n",
       " (9, 1),\n",
       " (10, 1),\n",
       " (11, 1),\n",
       " (10, 1),\n",
       " (10, 2),\n",
       " (10, 3),\n",
       " (10, 4),\n",
       " (9, 4),\n",
       " (10, 4),\n",
       " (10, 3),\n",
       " (10, 4),\n",
       " (11, 4),\n",
       " (11, 3),\n",
       " (11, 4),\n",
       " (12, 4),\n",
       " (11, 4),\n",
       " (12, 4),\n",
       " (11, 4),\n",
       " (11, 3),\n",
       " (11, 2),\n",
       " (11, 3),\n",
       " (11, 4),\n",
       " (11, 3),\n",
       " (11, 2),\n",
       " (11, 1),\n",
       " (10, 1),\n",
       " (9, 1),\n",
       " (8, 1),\n",
       " (8, 2),\n",
       " (7, 2),\n",
       " (8, 2),\n",
       " (9, 2),\n",
       " (8, 2),\n",
       " (9, 2),\n",
       " (8, 2),\n",
       " (7, 2),\n",
       " (6, 2),\n",
       " (6, 1),\n",
       " (5, 1),\n",
       " (6, 1),\n",
       " (5, 1),\n",
       " (4, 1),\n",
       " (5, 1),\n",
       " (6, 1),\n",
       " (7, 1),\n",
       " (6, 1),\n",
       " (6, 2),\n",
       " (6, 1),\n",
       " (6, 2),\n",
       " (7, 2),\n",
       " (8, 2),\n",
       " (8, 1),\n",
       " (8, 2),\n",
       " (8, 1),\n",
       " (8, 2),\n",
       " (7, 2),\n",
       " (6, 2),\n",
       " (5, 2),\n",
       " (6, 2),\n",
       " (6, 1),\n",
       " (5, 1),\n",
       " (4, 1),\n",
       " (5, 1),\n",
       " (5, 2),\n",
       " (5, 1),\n",
       " (5, 2),\n",
       " (6, 2),\n",
       " (7, 2),\n",
       " (8, 2),\n",
       " (9, 2),\n",
       " (10, 2),\n",
       " (11, 2),\n",
       " (11, 3),\n",
       " (11, 2),\n",
       " (10, 2),\n",
       " (11, 2),\n",
       " (11, 3),\n",
       " (11, 4),\n",
       " (12, 4),\n",
       " (11, 4),\n",
       " (12, 4),\n",
       " (13, 4),\n",
       " (12, 4),\n",
       " (13, 4),\n",
       " (12, 4),\n",
       " (11, 4),\n",
       " (10, 4),\n",
       " (10, 3),\n",
       " (11, 3),\n",
       " (11, 2),\n",
       " (11, 1),\n",
       " (11, 2),\n",
       " (10, 2),\n",
       " (10, 1),\n",
       " (10, 2),\n",
       " (10, 1),\n",
       " (11, 1)]"
      ]
     },
     "execution_count": 8,
     "metadata": {},
     "output_type": "execute_result"
    }
   ],
   "source": [
    "path"
   ]
  },
  {
   "cell_type": "code",
   "execution_count": 9,
   "metadata": {},
   "outputs": [
    {
     "data": {
      "text/plain": [
       "(11, 1)"
      ]
     },
     "execution_count": 9,
     "metadata": {},
     "output_type": "execute_result"
    }
   ],
   "source": [
    "# print last element of path\n",
    "path[-1]"
   ]
  },
  {
   "cell_type": "code",
   "execution_count": 10,
   "metadata": {},
   "outputs": [
    {
     "data": {
      "text/plain": [
       "(12, 14)"
      ]
     },
     "execution_count": 10,
     "metadata": {},
     "output_type": "execute_result"
    }
   ],
   "source": [
    "target"
   ]
  },
  {
   "cell_type": "code",
   "execution_count": null,
   "metadata": {},
   "outputs": [],
   "source": [
    "\n"
   ]
  },
  {
   "cell_type": "code",
   "execution_count": 19,
   "metadata": {},
   "outputs": [
    {
     "name": "stdout",
     "output_type": "stream",
     "text": [
      "> Creating initial population...\n",
      "> Evolving...\n"
     ]
    },
    {
     "name": "stderr",
     "output_type": "stream",
     "text": [
      "100%|██████████| 1000/1000 [00:00<00:00, 4191.54it/s, best score: inf]\n"
     ]
    }
   ],
   "source": [
    "# this is manhattan distance from the last element of the path to the target\n",
    "fitness_function = lambda path: abs(path[-1][0] - target[0]) + abs(path[-1][1] - target[1])\n",
    "\n",
    "a = (0, -1)\n",
    "b = (0, 1)\n",
    "c = (1, 0)      \n",
    "d = (-1, 0)\n",
    "\n",
    "ACTIONS = [a, b, c, d]\n",
    "\n",
    "def modify_action(t1, t2):\n",
    "    \"\"\"Sum two tuples\"\"\"\n",
    "    return (t1[0] + t2[0], t1[1] + t2[1])\n",
    "\n",
    "def is_crossoverable(action1, action2):\n",
    "    # if action 1 and action 2 are oblique, return False\n",
    "    dx = abs(action1[0] - action2[0])\n",
    "    dy = abs(action1[1] - action2[1])\n",
    "    # return false if the two components are changing together and > 1\n",
    "    if dx > 0 and dy > 0:\n",
    "        return False\n",
    "    else:\n",
    "        return True\n",
    "\n",
    "def crossover(path1, path2):\n",
    "    \"\"\"Crossover two paths\"\"\"\n",
    "    # randomly select a crossover point\n",
    "    i = np.random.randint(1, min(len(path1), len(path2)))\n",
    "    while not is_crossoverable(path1[i-1], path2[i]):\n",
    "        i = np.random.randint(1, min(len(path1), len(path2)))\n",
    "\n",
    "    # return the two paths joined at the crossover point\n",
    "    return path1[:i] + path2[i:]\n",
    "     \n",
    "\n",
    "def mutate(path, mutation_rate=0.05):\n",
    "    \"\"\"Mutate a path\"\"\"\n",
    "    # randomly select n postions to mutate\n",
    "    idxs = random.choices(range(len(path)), k=5)\n",
    "    # randomly select new actions for each position and replace\n",
    "    # TODO?  implement controls on move validity\n",
    "    for idx in idxs:\n",
    "        path[idx] = modify_action(path[idx], random.choice(ACTIONS))\n",
    "    return path\n",
    "\n",
    "MAX_GENERATIONS = 1000\n",
    "MAX_INDIVIDUALS = 100\n",
    "\n",
    "best_scores =[]\n",
    "best_paths = []\n",
    "\n",
    "# create a list of individuals, starting with random moves (illegal actions filtered out)\n",
    "print(\"> Creating initial population...\")\n",
    "individuals = [true_random_nsteps(game_map, start, target) for _ in range(MAX_INDIVIDUALS)]\n",
    "best_fitness = np.inf\n",
    "\n",
    "# create a list of tuples (individual, fitness)\n",
    "print(\"> Evolving...\")\n",
    "for generation in tqdm(range(MAX_GENERATIONS), postfix=f'best score: {best_fitness:.2f}'):\n",
    "    generation_scores = []\n",
    "    \n",
    "    fitnesses = [fitness_function(individual) for individual in individuals]\n",
    "    generation_scores.append(min(fitnesses))\n",
    "\n",
    "    # this is a list of tuples (individual, fitness). individual is a list of moves\n",
    "    population = list(zip(individuals, fitnesses))\n",
    "\n",
    "    # sorting the population by best fitness (lower is better)\n",
    "    population.sort(key=lambda x: x[1])\n",
    "    \n",
    "    # take 2 best individuals -> maybe can be replaced with probability distribution based on fitness\n",
    "    # also roulette wheel selection.\n",
    "    child1, child2 = population[0], population[1]\n",
    "    offspring = [crossover(child1[0], child2[0]) for _ in range(MAX_INDIVIDUALS)]\n",
    "    #offspring = [mutate(child) for child in offspring]\n",
    "    individuals = offspring\n",
    "    best_fitness = population[0][1]\n",
    "    best_scores.append(population[0][1])    \n",
    "    best_paths.append(population[0][0])\n",
    "\n",
    "    "
   ]
  },
  {
   "cell_type": "code",
   "execution_count": 15,
   "metadata": {},
   "outputs": [
    {
     "data": {
      "text/plain": [
       "(11, 1)"
      ]
     },
     "execution_count": 15,
     "metadata": {},
     "output_type": "execute_result"
    }
   ],
   "source": [
    "start"
   ]
  },
  {
   "cell_type": "code",
   "execution_count": 18,
   "metadata": {},
   "outputs": [
    {
     "data": {
      "text/plain": [
       "[(12, 1),\n",
       " (11, 1),\n",
       " (11, 2),\n",
       " (10, 2),\n",
       " (11, 2),\n",
       " (11, 1),\n",
       " (10, 1),\n",
       " (9, 1),\n",
       " (8, 1),\n",
       " (9, 1),\n",
       " (10, 1),\n",
       " (10, 2),\n",
       " (10, 1),\n",
       " (11, 1),\n",
       " (12, 2),\n",
       " (11, 2),\n",
       " (9, 2),\n",
       " (9, 1),\n",
       " (8, 1),\n",
       " (8, 1),\n",
       " (6, 1),\n",
       " (7, 1),\n",
       " (7, 2),\n",
       " (6, 2),\n",
       " (5, 2),\n",
       " (5, 3),\n",
       " (5, 4),\n",
       " (5, 5),\n",
       " (5, 6),\n",
       " (6, 6),\n",
       " (5, 6),\n",
       " (6, 6),\n",
       " (7, 6),\n",
       " (8, 6),\n",
       " (9, 6),\n",
       " (9, 7),\n",
       " (9, 6),\n",
       " (8, 6),\n",
       " (9, 6),\n",
       " (8, 6),\n",
       " (7, 6),\n",
       " (6, 6),\n",
       " (7, 6),\n",
       " (6, 6),\n",
       " (7, 6),\n",
       " (8, 6),\n",
       " (9, 6),\n",
       " (8, 6),\n",
       " (7, 6),\n",
       " (6, 7),\n",
       " (7, 6),\n",
       " (8, 6),\n",
       " (7, 6),\n",
       " (8, 6),\n",
       " (7, 6),\n",
       " (8, 6),\n",
       " (7, 6),\n",
       " (6, 6),\n",
       " (5, 6),\n",
       " (5, 5),\n",
       " (5, 6),\n",
       " (5, 7),\n",
       " (5, 8),\n",
       " (5, 9),\n",
       " (5, 8),\n",
       " (5, 9),\n",
       " (5, 10),\n",
       " (5, 9),\n",
       " (5, 8),\n",
       " (5, 9),\n",
       " (5, 10),\n",
       " (5, 9),\n",
       " (5, 10),\n",
       " (5, 11),\n",
       " (5, 12),\n",
       " (5, 11),\n",
       " (5, 12),\n",
       " (5, 11),\n",
       " (5, 12),\n",
       " (5, 13),\n",
       " (6, 13),\n",
       " (7, 13),\n",
       " (7, 14),\n",
       " (6, 14),\n",
       " (6, 13),\n",
       " (6, 14),\n",
       " (7, 14),\n",
       " (7, 13),\n",
       " (7, 14),\n",
       " (7, 13),\n",
       " (7, 14),\n",
       " (7, 13),\n",
       " (6, 13),\n",
       " (7, 13),\n",
       " (7, 14),\n",
       " (8, 14),\n",
       " (8, 13),\n",
       " (8, 12),\n",
       " (8, 13),\n",
       " (9, 14)]"
      ]
     },
     "execution_count": 18,
     "metadata": {},
     "output_type": "execute_result"
    }
   ],
   "source": [
    "path"
   ]
  },
  {
   "cell_type": "code",
   "execution_count": 13,
   "metadata": {},
   "outputs": [
    {
     "ename": "Exception",
     "evalue": "x and y can't change at the same time. oblique moves not allowed!",
     "output_type": "error",
     "traceback": [
      "\u001b[0;31m---------------------------------------------------------------------------\u001b[0m",
      "\u001b[0;31mException\u001b[0m                                 Traceback (most recent call last)",
      "\u001b[1;32m/Users/vornao/Developer/aif-project/lessons/hands-on-search/search.ipynb Cell 15\u001b[0m line \u001b[0;36m1\n\u001b[0;32m----> <a href='vscode-notebook-cell:/Users/vornao/Developer/aif-project/lessons/hands-on-search/search.ipynb#X32sZmlsZQ%3D%3D?line=0'>1</a>\u001b[0m actions_from_path(start, path)\n",
      "File \u001b[0;32m~/Developer/aif-project/lessons/hands-on-search/utils.py:62\u001b[0m, in \u001b[0;36mactions_from_path\u001b[0;34m(start, path)\u001b[0m\n\u001b[1;32m     60\u001b[0m     \u001b[39melse\u001b[39;00m: actions\u001b[39m.\u001b[39mappend(action_map[\u001b[39m\"\u001b[39m\u001b[39mS\u001b[39m\u001b[39m\"\u001b[39m])\n\u001b[1;32m     61\u001b[0m \u001b[39melse\u001b[39;00m:\n\u001b[0;32m---> 62\u001b[0m     \u001b[39mraise\u001b[39;00m \u001b[39mException\u001b[39;00m(\u001b[39m\"\u001b[39m\u001b[39mx and y can\u001b[39m\u001b[39m'\u001b[39m\u001b[39mt change at the same time. oblique moves not allowed!\u001b[39m\u001b[39m\"\u001b[39m)\n\u001b[1;32m     63\u001b[0m x_s \u001b[39m=\u001b[39m x\n\u001b[1;32m     64\u001b[0m y_s \u001b[39m=\u001b[39m y\n",
      "\u001b[0;31mException\u001b[0m: x and y can't change at the same time. oblique moves not allowed!"
     ]
    }
   ],
   "source": [
    "actions_from_path(start, path)"
   ]
  },
  {
   "cell_type": "code",
   "execution_count": 23,
   "metadata": {},
   "outputs": [
    {
     "ename": "TypeError",
     "evalue": "NLE.reset() got an unexpected keyword argument 'seed'",
     "output_type": "error",
     "traceback": [
      "\u001b[0;31m---------------------------------------------------------------------------\u001b[0m",
      "\u001b[0;31mTypeError\u001b[0m                                 Traceback (most recent call last)",
      "\u001b[1;32m/Users/vornao/Developer/aif-project/lessons/hands-on-search/search.ipynb Cell 16\u001b[0m line \u001b[0;36m5\n\u001b[1;32m      <a href='vscode-notebook-cell:/Users/vornao/Developer/aif-project/lessons/hands-on-search/search.ipynb#X20sZmlsZQ%3D%3D?line=2'>3</a>\u001b[0m start \u001b[39m=\u001b[39m path[\u001b[39m0\u001b[39m]\n\u001b[1;32m      <a href='vscode-notebook-cell:/Users/vornao/Developer/aif-project/lessons/hands-on-search/search.ipynb#X20sZmlsZQ%3D%3D?line=3'>4</a>\u001b[0m path \u001b[39m=\u001b[39m path[\u001b[39m1\u001b[39m:]\n\u001b[0;32m----> <a href='vscode-notebook-cell:/Users/vornao/Developer/aif-project/lessons/hands-on-search/search.ipynb#X20sZmlsZQ%3D%3D?line=4'>5</a>\u001b[0m state\u001b[39m=\u001b[39menv\u001b[39m.\u001b[39;49mreset(seed\u001b[39m=\u001b[39;49m\u001b[39m42\u001b[39;49m)\n\u001b[1;32m      <a href='vscode-notebook-cell:/Users/vornao/Developer/aif-project/lessons/hands-on-search/search.ipynb#X20sZmlsZQ%3D%3D?line=5'>6</a>\u001b[0m actions \u001b[39m=\u001b[39m actions_from_path(start, path)\n\u001b[1;32m      <a href='vscode-notebook-cell:/Users/vornao/Developer/aif-project/lessons/hands-on-search/search.ipynb#X20sZmlsZQ%3D%3D?line=7'>8</a>\u001b[0m \u001b[39mfor\u001b[39;00m action \u001b[39min\u001b[39;00m actions:\n",
      "File \u001b[0;32m~/Developer/aif-project/.venv/lib/python3.10/site-packages/minihack/base.py:375\u001b[0m, in \u001b[0;36mMiniHack.reset\u001b[0;34m(self, sample_seed, *args, **kwargs)\u001b[0m\n\u001b[1;32m    373\u001b[0m     seed \u001b[39m=\u001b[39m random\u001b[39m.\u001b[39mchoice(\u001b[39mself\u001b[39m\u001b[39m.\u001b[39m_level_seeds)\n\u001b[1;32m    374\u001b[0m     \u001b[39mself\u001b[39m\u001b[39m.\u001b[39mseed(seed, seed, reseed\u001b[39m=\u001b[39m\u001b[39mFalse\u001b[39;00m)\n\u001b[0;32m--> 375\u001b[0m \u001b[39mreturn\u001b[39;00m \u001b[39msuper\u001b[39;49m()\u001b[39m.\u001b[39;49mreset(\u001b[39m*\u001b[39;49margs, \u001b[39m*\u001b[39;49m\u001b[39m*\u001b[39;49mkwargs)\n",
      "\u001b[0;31mTypeError\u001b[0m: NLE.reset() got an unexpected keyword argument 'seed'"
     ]
    },
    {
     "data": {
      "image/png": "[encoded data removed]",
      "text/plain": [
       "<Figure size 640x480 with 1 Axes>"
      ]
     },
     "metadata": {},
     "output_type": "display_data"
    }
   ],
   "source": [
    "image = plt.imshow(game[25:300, :475])\n",
    "for generation, path in enumerate(best_paths):\n",
    "    start = path[0]\n",
    "    path = path[1:]\n",
    "    state=env.reset(seed=42)\n",
    "    actions = actions_from_path(start, path)\n",
    "    \n",
    "    for action in actions:\n",
    "        s, _, _, _ = env.step(action)\n",
    "        display.display(plt.gcf())\n",
    "        display.clear_output(wait=True)\n",
    "        image.set_data(s['pixel'][25:300, :475])\n",
    "    \n",
    "    plt.title(f\"Generation {generation}\")\n",
    "    env.reset()"
   ]
  },
  {
   "cell_type": "code",
   "execution_count": null,
   "metadata": {},
   "outputs": [],
   "source": []
  }
 ],
 "metadata": {
  "kernelspec": {
   "display_name": ".venv",
   "language": "python",
   "name": "python3"
  },
  "language_info": {
   "codemirror_mode": {
    "name": "ipython",
    "version": 3
   },
   "file_extension": ".py",
   "mimetype": "text/x-python",
   "name": "python",
   "nbconvert_exporter": "python",
   "pygments_lexer": "ipython3",
   "version": "3.10.11"
  }
 },
 "nbformat": 4,
 "nbformat_minor": 2
}
